{
 "cells": [
  {
   "cell_type": "markdown",
   "source": [
    "# Problématique :\n",
    " \n",
    "Vous marchez vers votre destin quand soudain vous rencontrez deux portes derrière l'une d'entre elles se trouve un trésor mais vous ne savez pas lequel. Il y a un gardien devant chaque porte et les deux savent où se trouve le trésor. L'un des deux gardiens ment toujours tandis que l'autre dit la vérité. Vous ne savez pas lequel ment ou lequel dit la vérité. Les deux gardiens savent lequel ment. Votre défi : posez une seule question à l'un des deux gardiens pour savoir où se trouve le trésor. Vous pouvez appuyer sur pause pour y réfléchir ou écouter la réponse tout de suite. La question que vous devez poser est la suivante : quelle porte l'autre gardien me dirait-il de ne pas ouvrir ?"
   ],
   "metadata": {
    "collapsed": false
   },
   "id": "9eec240d1fb1c6cd"
  },
  {
   "cell_type": "markdown",
   "source": [
    "## Importation des librairies"
   ],
   "metadata": {
    "collapsed": false
   },
   "id": "26e678ff2ff21ef2"
  },
  {
   "cell_type": "code",
   "execution_count": 1,
   "outputs": [],
   "source": [
    "from qiskit import QuantumCircuit, execute, Aer\n",
    "from qiskit.visualization import plot_histogram"
   ],
   "metadata": {
    "collapsed": false,
    "ExecuteTime": {
     "end_time": "2023-11-10T07:33:19.820561100Z",
     "start_time": "2023-11-10T07:33:18.074605100Z"
    }
   },
   "id": "33150ae1419c6e92"
  },
  {
   "cell_type": "markdown",
   "source": [
    "## Création du circuit\n",
    "\n",
    "##### Nous deuvons un circuit de 3 qubits réprensantant les 2 guardiens et le fait que l'un d'entre eux ment"
   ],
   "metadata": {
    "collapsed": false
   },
   "id": "bdfd6baeee3fba4a"
  },
  {
   "cell_type": "code",
   "execution_count": 2,
   "outputs": [],
   "source": [
    "QC = QuantumCircuit(3)"
   ],
   "metadata": {
    "collapsed": false,
    "ExecuteTime": {
     "end_time": "2023-11-10T07:33:19.842114Z",
     "start_time": "2023-11-10T07:33:19.829082800Z"
    }
   },
   "id": "238cfa9c7d3c6eed"
  },
  {
   "cell_type": "markdown",
   "source": [
    "## Appliquer la porte Hadamard sur le premier qubit (q0)"
   ],
   "metadata": {
    "collapsed": false
   },
   "id": "af3dc1d9d2ce29da"
  },
  {
   "cell_type": "code",
   "execution_count": 3,
   "outputs": [
    {
     "data": {
      "text/plain": "<qiskit.circuit.instructionset.InstructionSet at 0x1ad74f91d50>"
     },
     "execution_count": 3,
     "metadata": {},
     "output_type": "execute_result"
    }
   ],
   "source": [
    "QC.h(0)"
   ],
   "metadata": {
    "collapsed": false,
    "ExecuteTime": {
     "end_time": "2023-11-10T07:33:19.910152700Z",
     "start_time": "2023-11-10T07:33:19.837611600Z"
    }
   },
   "id": "1ccee5eaaace3e4e"
  },
  {
   "cell_type": "code",
   "execution_count": 4,
   "outputs": [
    {
     "data": {
      "text/plain": "<Figure size 203.885x284.278 with 1 Axes>",
      "image/png": "[encoded data removed]"
     },
     "execution_count": 4,
     "metadata": {},
     "output_type": "execute_result"
    }
   ],
   "source": [
    "QC.draw(output='mpl')"
   ],
   "metadata": {
    "collapsed": false,
    "ExecuteTime": {
     "end_time": "2023-11-10T07:33:20.619950200Z",
     "start_time": "2023-11-10T07:33:19.873950900Z"
    }
   },
   "id": "353e8e46385f8be6"
  },
  {
   "cell_type": "markdown",
   "source": [
    "## Appliquer la porte Hadamard sur le premier qubit (q2)"
   ],
   "metadata": {
    "collapsed": false
   },
   "id": "bef60f5b0ff6daf"
  },
  {
   "cell_type": "code",
   "execution_count": 5,
   "outputs": [
    {
     "data": {
      "text/plain": "<qiskit.circuit.instructionset.InstructionSet at 0x1ad76dae2c0>"
     },
     "execution_count": 5,
     "metadata": {},
     "output_type": "execute_result"
    }
   ],
   "source": [
    "QC.h(2)"
   ],
   "metadata": {
    "collapsed": false,
    "ExecuteTime": {
     "end_time": "2023-11-10T07:33:20.647507700Z",
     "start_time": "2023-11-10T07:33:20.612426700Z"
    }
   },
   "id": "be7e38e0f712eee2"
  },
  {
   "cell_type": "code",
   "execution_count": 6,
   "outputs": [
    {
     "data": {
      "text/plain": "<Figure size 203.885x284.278 with 1 Axes>",
      "image/png": "[encoded data removed]"
     },
     "execution_count": 6,
     "metadata": {},
     "output_type": "execute_result"
    }
   ],
   "source": [
    "QC.draw(output='mpl')"
   ],
   "metadata": {
    "collapsed": false,
    "ExecuteTime": {
     "end_time": "2023-11-10T07:33:20.761312200Z",
     "start_time": "2023-11-10T07:33:20.638982Z"
    }
   },
   "id": "ec3550108b2eca7c"
  },
  {
   "cell_type": "markdown",
   "source": [
    "## Appliquer la porte CNOT entre q0 (control) et q1 (target)"
   ],
   "metadata": {
    "collapsed": false
   },
   "id": "cff170b72e9f7d8"
  },
  {
   "cell_type": "code",
   "execution_count": 7,
   "outputs": [
    {
     "data": {
      "text/plain": "<qiskit.circuit.instructionset.InstructionSet at 0x1ad76e0dc90>"
     },
     "execution_count": 7,
     "metadata": {},
     "output_type": "execute_result"
    }
   ],
   "source": [
    "QC.cx(0, 1)"
   ],
   "metadata": {
    "collapsed": false,
    "ExecuteTime": {
     "end_time": "2023-11-10T07:33:20.781406500Z",
     "start_time": "2023-11-10T07:33:20.750281800Z"
    }
   },
   "id": "688aca3fa9b8911d"
  },
  {
   "cell_type": "code",
   "execution_count": 8,
   "outputs": [
    {
     "data": {
      "text/plain": "<Figure size 287.496x284.278 with 1 Axes>",
      "image/png": "[encoded data removed]"
     },
     "execution_count": 8,
     "metadata": {},
     "output_type": "execute_result"
    }
   ],
   "source": [
    "QC.draw(output='mpl')"
   ],
   "metadata": {
    "collapsed": false,
    "ExecuteTime": {
     "end_time": "2023-11-10T07:33:20.918368Z",
     "start_time": "2023-11-10T07:33:20.768832300Z"
    }
   },
   "id": "714b17a6262548c3"
  },
  {
   "cell_type": "markdown",
   "source": [
    "## Appliquer la porte CNOT entre q2 (control) et q1 (target)"
   ],
   "metadata": {
    "collapsed": false
   },
   "id": "2ac29e54f3fdc344"
  },
  {
   "cell_type": "code",
   "execution_count": 9,
   "outputs": [
    {
     "data": {
      "text/plain": "<qiskit.circuit.instructionset.InstructionSet at 0x1ad76e3a1d0>"
     },
     "execution_count": 9,
     "metadata": {},
     "output_type": "execute_result"
    }
   ],
   "source": [
    "QC.cx(2, 1)"
   ],
   "metadata": {
    "collapsed": false,
    "ExecuteTime": {
     "end_time": "2023-11-10T07:33:20.974178200Z",
     "start_time": "2023-11-10T07:33:20.919366700Z"
    }
   },
   "id": "baf9c23e38b7454"
  },
  {
   "cell_type": "code",
   "execution_count": 10,
   "outputs": [
    {
     "data": {
      "text/plain": "<Figure size 371.107x284.278 with 1 Axes>",
      "image/png": "[encoded data removed]"
     },
     "execution_count": 10,
     "metadata": {},
     "output_type": "execute_result"
    }
   ],
   "source": [
    "QC.draw(output='mpl')"
   ],
   "metadata": {
    "collapsed": false,
    "ExecuteTime": {
     "end_time": "2023-11-10T07:33:21.094796700Z",
     "start_time": "2023-11-10T07:33:20.940646Z"
    }
   },
   "id": "17d8f8f857f380ff"
  },
  {
   "cell_type": "markdown",
   "source": [
    "## Appliquer une porte NOT sur q2"
   ],
   "metadata": {
    "collapsed": false
   },
   "id": "367c81accc0be7f"
  },
  {
   "cell_type": "code",
   "execution_count": 11,
   "outputs": [
    {
     "data": {
      "text/plain": "<qiskit.circuit.instructionset.InstructionSet at 0x1ad76dad990>"
     },
     "execution_count": 11,
     "metadata": {},
     "output_type": "execute_result"
    }
   ],
   "source": [
    "QC.x(2)"
   ],
   "metadata": {
    "collapsed": false,
    "ExecuteTime": {
     "end_time": "2023-11-10T07:33:21.164787500Z",
     "start_time": "2023-11-10T07:33:21.093795700Z"
    }
   },
   "id": "7bba8c5e7b64be84"
  },
  {
   "cell_type": "code",
   "execution_count": 12,
   "outputs": [
    {
     "data": {
      "text/plain": "<Figure size 454.719x284.278 with 1 Axes>",
      "image/png": "[encoded data removed]"
     },
     "execution_count": 12,
     "metadata": {},
     "output_type": "execute_result"
    }
   ],
   "source": [
    "QC.draw(output='mpl')"
   ],
   "metadata": {
    "collapsed": false,
    "ExecuteTime": {
     "end_time": "2023-11-10T07:33:21.331410Z",
     "start_time": "2023-11-10T07:33:21.108625500Z"
    }
   },
   "id": "ade77b6fd7b0fdf8"
  },
  {
   "cell_type": "markdown",
   "source": [
    "## Appliquer une porte CNOT entre q2 (control) et q0 (target)"
   ],
   "metadata": {
    "collapsed": false
   },
   "id": "ff26bf1b3bfd3be5"
  },
  {
   "cell_type": "code",
   "execution_count": 13,
   "outputs": [
    {
     "data": {
      "text/plain": "<qiskit.circuit.instructionset.InstructionSet at 0x1ad76fe97e0>"
     },
     "execution_count": 13,
     "metadata": {},
     "output_type": "execute_result"
    }
   ],
   "source": [
    "QC.cx(2, 0)"
   ],
   "metadata": {
    "collapsed": false,
    "ExecuteTime": {
     "end_time": "2023-11-10T07:33:21.379133900Z",
     "start_time": "2023-11-10T07:33:21.330408600Z"
    }
   },
   "id": "2f7d7f6b357828a1"
  },
  {
   "cell_type": "code",
   "execution_count": 14,
   "outputs": [
    {
     "data": {
      "text/plain": "<Figure size 538.33x284.278 with 1 Axes>",
      "image/png": "[encoded data removed]"
     },
     "execution_count": 14,
     "metadata": {},
     "output_type": "execute_result"
    }
   ],
   "source": [
    "QC.draw(output='mpl')"
   ],
   "metadata": {
    "collapsed": false,
    "ExecuteTime": {
     "end_time": "2023-11-10T07:33:21.544216100Z",
     "start_time": "2023-11-10T07:33:21.358392900Z"
    }
   },
   "id": "cb4c8ca9f3da33f3"
  },
  {
   "cell_type": "markdown",
   "source": [
    "## Appliquer une porte NOT sur q2"
   ],
   "metadata": {
    "collapsed": false
   },
   "id": "92156aaf8e304432"
  },
  {
   "cell_type": "code",
   "execution_count": 15,
   "outputs": [
    {
     "data": {
      "text/plain": "<qiskit.circuit.instructionset.InstructionSet at 0x1ad7707b490>"
     },
     "execution_count": 15,
     "metadata": {},
     "output_type": "execute_result"
    }
   ],
   "source": [
    "QC.x(2)"
   ],
   "metadata": {
    "collapsed": false,
    "ExecuteTime": {
     "end_time": "2023-11-10T07:33:21.548577Z",
     "start_time": "2023-11-10T07:33:21.535154600Z"
    }
   },
   "id": "2b9cc13e8a87c97"
  },
  {
   "cell_type": "code",
   "execution_count": 16,
   "outputs": [
    {
     "data": {
      "text/plain": "<Figure size 621.941x284.278 with 1 Axes>",
      "image/png": "[encoded data removed]"
     },
     "execution_count": 16,
     "metadata": {},
     "output_type": "execute_result"
    }
   ],
   "source": [
    "QC.draw(output='mpl')"
   ],
   "metadata": {
    "collapsed": false,
    "ExecuteTime": {
     "end_time": "2023-11-10T07:33:21.802149700Z",
     "start_time": "2023-11-10T07:33:21.548577Z"
    }
   },
   "id": "ef3232ed2a11e98"
  },
  {
   "cell_type": "markdown",
   "source": [
    "# Quelle porte l'autre gardien me dirait-il de ne pas ouvrir ?"
   ],
   "metadata": {
    "collapsed": false
   },
   "id": "1a23c9d4697abdf7"
  },
  {
   "cell_type": "markdown",
   "source": [
    "## Appliquer une porte SWAP entre q0 et q1"
   ],
   "metadata": {
    "collapsed": false
   },
   "id": "1c44f20a92062a9f"
  },
  {
   "cell_type": "code",
   "execution_count": 17,
   "outputs": [
    {
     "data": {
      "text/plain": "<qiskit.circuit.instructionset.InstructionSet at 0x1ad76f36bc0>"
     },
     "execution_count": 17,
     "metadata": {},
     "output_type": "execute_result"
    }
   ],
   "source": [
    "QC.barrier()\n",
    "QC.swap(0, 1)"
   ],
   "metadata": {
    "collapsed": false,
    "ExecuteTime": {
     "end_time": "2023-11-10T07:33:21.805190900Z",
     "start_time": "2023-11-10T07:33:21.790496400Z"
    }
   },
   "id": "78544b0244abd444"
  },
  {
   "cell_type": "code",
   "execution_count": 18,
   "outputs": [
    {
     "data": {
      "text/plain": "<Figure size 789.163x284.278 with 1 Axes>",
      "image/png": "[encoded data removed]"
     },
     "execution_count": 18,
     "metadata": {},
     "output_type": "execute_result"
    }
   ],
   "source": [
    "QC.draw(output='mpl')"
   ],
   "metadata": {
    "collapsed": false,
    "ExecuteTime": {
     "end_time": "2023-11-10T07:33:22.003179600Z",
     "start_time": "2023-11-10T07:33:21.806189500Z"
    }
   },
   "id": "2ce04cca8bec4d7c"
  },
  {
   "cell_type": "markdown",
   "source": [
    "## Appliquer une porte NOT sur q0 et une autre sur q1"
   ],
   "metadata": {
    "collapsed": false
   },
   "id": "2dc72fc5cb2b76d2"
  },
  {
   "cell_type": "code",
   "execution_count": 19,
   "outputs": [
    {
     "data": {
      "text/plain": "<qiskit.circuit.instructionset.InstructionSet at 0x1ad771a7520>"
     },
     "execution_count": 19,
     "metadata": {},
     "output_type": "execute_result"
    }
   ],
   "source": [
    "QC.x(0)\n",
    "QC.x(1)"
   ],
   "metadata": {
    "collapsed": false,
    "ExecuteTime": {
     "end_time": "2023-11-10T07:33:22.022351400Z",
     "start_time": "2023-11-10T07:33:21.996659400Z"
    }
   },
   "id": "4abf3b6b5300cde2"
  },
  {
   "cell_type": "code",
   "execution_count": 20,
   "outputs": [
    {
     "data": {
      "text/plain": "<Figure size 872.774x284.278 with 1 Axes>",
      "image/png": "[encoded data removed]"
     },
     "execution_count": 20,
     "metadata": {},
     "output_type": "execute_result"
    }
   ],
   "source": [
    "QC.draw(output='mpl')"
   ],
   "metadata": {
    "collapsed": false,
    "ExecuteTime": {
     "end_time": "2023-11-10T07:33:22.236743300Z",
     "start_time": "2023-11-10T07:33:22.013832600Z"
    }
   },
   "id": "38d32c8d89d13490"
  },
  {
   "cell_type": "markdown",
   "source": [
    "## Réappliquer la même séquence de portes que précédemment afin de savoir quel gardien ment"
   ],
   "metadata": {
    "collapsed": false
   },
   "id": "17f1a3e51872b811"
  },
  {
   "cell_type": "code",
   "execution_count": 21,
   "outputs": [
    {
     "data": {
      "text/plain": "<qiskit.circuit.instructionset.InstructionSet at 0x1ad7823d5d0>"
     },
     "execution_count": 21,
     "metadata": {},
     "output_type": "execute_result"
    }
   ],
   "source": [
    "QC.cx(2, 1)\n",
    "QC.x(2)\n",
    "QC.cx(2,0)\n",
    "QC.x(2)"
   ],
   "metadata": {
    "collapsed": false,
    "ExecuteTime": {
     "end_time": "2023-11-10T07:33:22.326765600Z",
     "start_time": "2023-11-10T07:33:22.232727500Z"
    }
   },
   "id": "b4b8c8aea21a79bc"
  },
  {
   "cell_type": "code",
   "execution_count": 22,
   "outputs": [
    {
     "data": {
      "text/plain": "<Figure size 1207.22x284.278 with 1 Axes>",
      "image/png": "[encoded data removed]"
     },
     "execution_count": 22,
     "metadata": {},
     "output_type": "execute_result"
    }
   ],
   "source": [
    "QC.draw(output='mpl')"
   ],
   "metadata": {
    "collapsed": false,
    "ExecuteTime": {
     "end_time": "2023-11-10T07:33:22.485301500Z",
     "start_time": "2023-11-10T07:33:22.257544800Z"
    }
   },
   "id": "a97325cbf3f1ec7d"
  },
  {
   "cell_type": "markdown",
   "source": [
    "## Mesurer les qubits"
   ],
   "metadata": {
    "collapsed": false
   },
   "id": "e6ae9672fe8fa062"
  },
  {
   "cell_type": "code",
   "execution_count": 23,
   "outputs": [
    {
     "data": {
      "text/plain": "<Figure size 1583.72x367.889 with 1 Axes>",
      "image/png": "[encoded data removed]"
     },
     "execution_count": 23,
     "metadata": {},
     "output_type": "execute_result"
    }
   ],
   "source": [
    "QC.measure_all()\n",
    "QC.draw(output='mpl')"
   ],
   "metadata": {
    "collapsed": false,
    "ExecuteTime": {
     "end_time": "2023-11-10T07:33:22.742524300Z",
     "start_time": "2023-11-10T07:33:22.489301700Z"
    }
   },
   "id": "696dad4234f42f78"
  },
  {
   "cell_type": "markdown",
   "source": [
    "## Simuler le circuit"
   ],
   "metadata": {
    "collapsed": false
   },
   "id": "87b12e4d82891954"
  },
  {
   "cell_type": "code",
   "execution_count": 24,
   "outputs": [],
   "source": [
    "simulator = Aer.get_backend('qasm_simulator')\n",
    "result = execute(QC, backend=simulator, shots=1024).result()"
   ],
   "metadata": {
    "collapsed": false,
    "ExecuteTime": {
     "end_time": "2023-11-10T07:33:23.256171300Z",
     "start_time": "2023-11-10T07:33:22.739017400Z"
    }
   },
   "id": "de38a826cf0fb89"
  },
  {
   "cell_type": "markdown",
   "source": [
    "## Afficher le résultat"
   ],
   "metadata": {
    "collapsed": false
   },
   "id": "8ad409b2043ebabf"
  },
  {
   "cell_type": "code",
   "execution_count": 25,
   "outputs": [
    {
     "name": "stdout",
     "output_type": "stream",
     "text": [
      "{'000': 263, '011': 263, '100': 235, '111': 263}\n"
     ]
    }
   ],
   "source": [
    "counts = result.get_counts(QC)\n",
    "print(counts)"
   ],
   "metadata": {
    "collapsed": false,
    "ExecuteTime": {
     "end_time": "2023-11-10T07:33:23.270734400Z",
     "start_time": "2023-11-10T07:33:23.249838200Z"
    }
   },
   "id": "7ed7ed11367081f0"
  },
  {
   "cell_type": "markdown",
   "source": [
    "## Tracer l'histogramme des résultats"
   ],
   "metadata": {
    "collapsed": false
   },
   "id": "9a5b438849913826"
  },
  {
   "cell_type": "code",
   "execution_count": 26,
   "outputs": [
    {
     "data": {
      "text/plain": "<Figure size 700x500 with 1 Axes>",
      "image/png": "[encoded data removed]"
     },
     "execution_count": 26,
     "metadata": {},
     "output_type": "execute_result"
    }
   ],
   "source": [
    "plot_histogram(counts)"
   ],
   "metadata": {
    "collapsed": false,
    "ExecuteTime": {
     "end_time": "2023-11-10T07:33:23.428422300Z",
     "start_time": "2023-11-10T07:33:23.273251500Z"
    }
   },
   "id": "5e412bc4e2eebd3f"
  },
  {
   "cell_type": "code",
   "execution_count": 26,
   "outputs": [],
   "source": [],
   "metadata": {
    "collapsed": false,
    "ExecuteTime": {
     "end_time": "2023-11-10T07:33:23.443482100Z",
     "start_time": "2023-11-10T07:33:23.420906600Z"
    }
   },
   "id": "48ad6e50a202454c"
  }
 ],
 "metadata": {
  "kernelspec": {
   "display_name": "Python 3",
   "language": "python",
   "name": "python3"
  },
  "language_info": {
   "codemirror_mode": {
    "name": "ipython",
    "version": 2
   },
   "file_extension": ".py",
   "mimetype": "text/x-python",
   "name": "python",
   "nbconvert_exporter": "python",
   "pygments_lexer": "ipython2",
   "version": "2.7.6"
  }
 },
 "nbformat": 4,
 "nbformat_minor": 5
}
