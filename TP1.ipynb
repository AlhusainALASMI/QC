{
 "cells": [
  {
   "cell_type": "markdown",
   "source": [
    "# Problématique :\n",
    " \n",
    "Vous marchez vers votre destin quand soudain vous rencontrez deux portes derrière l'une d'entre elles se trouve un trésor mais vous ne savez pas lequel. Il y a un gardien devant chaque porte et les deux savent où se trouve le trésor. L'un des deux gardiens ment toujours tandis que l'autre dit la vérité. Vous ne savez pas lequel ment ou lequel dit la vérité. Les deux gardiens savent lequel ment. Votre défi : posez une seule question à l'un des deux gardiens pour savoir où se trouve le trésor. Vous pouvez appuyer sur pause pour y réfléchir ou écouter la réponse tout de suite. La question que vous devez poser est la suivante : quelle porte l'autre gardien me dirait-il de ne pas ouvrir ?"
   ],
   "metadata": {
    "collapsed": false
   },
   "id": "9eec240d1fb1c6cd"
  },
  {
   "cell_type": "markdown",
   "source": [
    "## Importation des librairies"
   ],
   "metadata": {
    "collapsed": false
   },
   "id": "26e678ff2ff21ef2"
  },
  {
   "cell_type": "code",
   "execution_count": 1,
   "outputs": [],
   "source": [
    "from qiskit import QuantumCircuit, execute, Aer\n",
    "from qiskit.visualization import plot_histogram"
   ],
   "metadata": {
    "collapsed": false,
    "ExecuteTime": {
     "end_time": "2023-10-13T09:51:12.144919700Z",
     "start_time": "2023-10-13T09:51:11.329449600Z"
    }
   },
   "id": "33150ae1419c6e92"
  },
  {
   "cell_type": "markdown",
   "source": [
    "## Création du circuit\n",
    "\n",
    "##### Nous deuvons un circuit de 3 qubits réprensantant les 2 guardiens et le fait que l'un d'entre eux ment"
   ],
   "metadata": {
    "collapsed": false
   },
   "id": "bdfd6baeee3fba4a"
  },
  {
   "cell_type": "code",
   "execution_count": 2,
   "outputs": [],
   "source": [
    "QC = QuantumCircuit(3, 1)"
   ],
   "metadata": {
    "collapsed": false,
    "ExecuteTime": {
     "end_time": "2023-10-13T09:51:12.161312300Z",
     "start_time": "2023-10-13T09:51:12.144919700Z"
    }
   },
   "id": "238cfa9c7d3c6eed"
  },
  {
   "cell_type": "markdown",
   "source": [
    "## Appliquer la porte Hadamard sur le premier qubit (q0)"
   ],
   "metadata": {
    "collapsed": false
   },
   "id": "af3dc1d9d2ce29da"
  },
  {
   "cell_type": "code",
   "execution_count": 3,
   "outputs": [
    {
     "data": {
      "text/plain": "<qiskit.circuit.instructionset.InstructionSet at 0x267c7e8faf0>"
     },
     "execution_count": 3,
     "metadata": {},
     "output_type": "execute_result"
    }
   ],
   "source": [
    "QC.h(0)"
   ],
   "metadata": {
    "collapsed": false,
    "ExecuteTime": {
     "end_time": "2023-10-13T09:51:12.212311200Z",
     "start_time": "2023-10-13T09:51:12.161312300Z"
    }
   },
   "id": "1ccee5eaaace3e4e"
  },
  {
   "cell_type": "code",
   "execution_count": 4,
   "outputs": [
    {
     "data": {
      "text/plain": "     ┌───┐\nq_0: ┤ H ├\n     └───┘\nq_1: ─────\n          \nq_2: ─────\n          \nc: 1/═════\n          ",
      "text/html": "<pre style=\"word-wrap: normal;white-space: pre;background: #fff0;line-height: 1.1;font-family: &quot;Courier New&quot;,Courier,monospace\">     ┌───┐\nq_0: ┤ H ├\n     └───┘\nq_1: ─────\n          \nq_2: ─────\n          \nc: 1/═════\n          </pre>"
     },
     "execution_count": 4,
     "metadata": {},
     "output_type": "execute_result"
    }
   ],
   "source": [
    "QC.draw()"
   ],
   "metadata": {
    "collapsed": false,
    "ExecuteTime": {
     "end_time": "2023-10-13T09:51:12.218258700Z",
     "start_time": "2023-10-13T09:51:12.180886200Z"
    }
   },
   "id": "ec3550108b2eca7c"
  },
  {
   "cell_type": "markdown",
   "source": [
    "## Appliquer la porte CNOT entre q0 (control) et q1 (target)"
   ],
   "metadata": {
    "collapsed": false
   },
   "id": "cff170b72e9f7d8"
  },
  {
   "cell_type": "code",
   "execution_count": 5,
   "outputs": [
    {
     "data": {
      "text/plain": "<qiskit.circuit.instructionset.InstructionSet at 0x267c7ecc3d0>"
     },
     "execution_count": 5,
     "metadata": {},
     "output_type": "execute_result"
    }
   ],
   "source": [
    "QC.cx(0, 1)"
   ],
   "metadata": {
    "collapsed": false,
    "ExecuteTime": {
     "end_time": "2023-10-13T09:51:12.218258700Z",
     "start_time": "2023-10-13T09:51:12.196658100Z"
    }
   },
   "id": "688aca3fa9b8911d"
  },
  {
   "cell_type": "code",
   "execution_count": 6,
   "outputs": [
    {
     "data": {
      "text/plain": "     ┌───┐     \nq_0: ┤ H ├──■──\n     └───┘┌─┴─┐\nq_1: ─────┤ X ├\n          └───┘\nq_2: ──────────\n               \nc: 1/══════════\n               ",
      "text/html": "<pre style=\"word-wrap: normal;white-space: pre;background: #fff0;line-height: 1.1;font-family: &quot;Courier New&quot;,Courier,monospace\">     ┌───┐     \nq_0: ┤ H ├──■──\n     └───┘┌─┴─┐\nq_1: ─────┤ X ├\n          └───┘\nq_2: ──────────\n               \nc: 1/══════════\n               </pre>"
     },
     "execution_count": 6,
     "metadata": {},
     "output_type": "execute_result"
    }
   ],
   "source": [
    "QC.draw()"
   ],
   "metadata": {
    "collapsed": false,
    "ExecuteTime": {
     "end_time": "2023-10-13T09:51:12.232918400Z",
     "start_time": "2023-10-13T09:51:12.216463900Z"
    }
   },
   "id": "714b17a6262548c3"
  },
  {
   "cell_type": "markdown",
   "source": [
    "## Ajuster un troisième qubit (q2) pour représenter le mensonge"
   ],
   "metadata": {
    "collapsed": false
   },
   "id": "2ac29e54f3fdc344"
  },
  {
   "cell_type": "code",
   "execution_count": 7,
   "outputs": [
    {
     "data": {
      "text/plain": "<qiskit.circuit.instructionset.InstructionSet at 0x267c7eccc70>"
     },
     "execution_count": 7,
     "metadata": {},
     "output_type": "execute_result"
    }
   ],
   "source": [
    "QC.x(2)"
   ],
   "metadata": {
    "collapsed": false,
    "ExecuteTime": {
     "end_time": "2023-10-13T09:51:12.256938900Z",
     "start_time": "2023-10-13T09:51:12.235994900Z"
    }
   },
   "id": "baf9c23e38b7454"
  },
  {
   "cell_type": "code",
   "execution_count": 8,
   "outputs": [
    {
     "data": {
      "text/plain": "     ┌───┐     \nq_0: ┤ H ├──■──\n     └───┘┌─┴─┐\nq_1: ─────┤ X ├\n     ┌───┐└───┘\nq_2: ┤ X ├─────\n     └───┘     \nc: 1/══════════\n               ",
      "text/html": "<pre style=\"word-wrap: normal;white-space: pre;background: #fff0;line-height: 1.1;font-family: &quot;Courier New&quot;,Courier,monospace\">     ┌───┐     \nq_0: ┤ H ├──■──\n     └───┘┌─┴─┐\nq_1: ─────┤ X ├\n     ┌───┐└───┘\nq_2: ┤ X ├─────\n     └───┘     \nc: 1/══════════\n               </pre>"
     },
     "execution_count": 8,
     "metadata": {},
     "output_type": "execute_result"
    }
   ],
   "source": [
    "QC.draw()"
   ],
   "metadata": {
    "collapsed": false,
    "ExecuteTime": {
     "end_time": "2023-10-13T09:51:12.270451Z",
     "start_time": "2023-10-13T09:51:12.255938100Z"
    }
   },
   "id": "17d8f8f857f380ff"
  },
  {
   "cell_type": "markdown",
   "source": [
    "## Appliquer une porte Hadamard sur le troisième qubit (q2)"
   ],
   "metadata": {
    "collapsed": false
   },
   "id": "367c81accc0be7f"
  },
  {
   "cell_type": "code",
   "execution_count": 9,
   "outputs": [
    {
     "data": {
      "text/plain": "<qiskit.circuit.instructionset.InstructionSet at 0x267c7ecd090>"
     },
     "execution_count": 9,
     "metadata": {},
     "output_type": "execute_result"
    }
   ],
   "source": [
    "QC.h(2)"
   ],
   "metadata": {
    "collapsed": false,
    "ExecuteTime": {
     "end_time": "2023-10-13T09:51:12.329026600Z",
     "start_time": "2023-10-13T09:51:12.270451Z"
    }
   },
   "id": "7bba8c5e7b64be84"
  },
  {
   "cell_type": "code",
   "execution_count": 10,
   "outputs": [
    {
     "data": {
      "text/plain": "     ┌───┐     \nq_0: ┤ H ├──■──\n     └───┘┌─┴─┐\nq_1: ─────┤ X ├\n     ┌───┐├───┤\nq_2: ┤ X ├┤ H ├\n     └───┘└───┘\nc: 1/══════════\n               ",
      "text/html": "<pre style=\"word-wrap: normal;white-space: pre;background: #fff0;line-height: 1.1;font-family: &quot;Courier New&quot;,Courier,monospace\">     ┌───┐     \nq_0: ┤ H ├──■──\n     └───┘┌─┴─┐\nq_1: ─────┤ X ├\n     ┌───┐├───┤\nq_2: ┤ X ├┤ H ├\n     └───┘└───┘\nc: 1/══════════\n               </pre>"
     },
     "execution_count": 10,
     "metadata": {},
     "output_type": "execute_result"
    }
   ],
   "source": [
    "QC.draw()"
   ],
   "metadata": {
    "collapsed": false,
    "ExecuteTime": {
     "end_time": "2023-10-13T09:51:12.341042700Z",
     "start_time": "2023-10-13T09:51:12.287599200Z"
    }
   },
   "id": "ade77b6fd7b0fdf8"
  },
  {
   "cell_type": "markdown",
   "source": [
    "## Appliquer une porte CNOT entre q1 (control) et q2 (target)"
   ],
   "metadata": {
    "collapsed": false
   },
   "id": "ff26bf1b3bfd3be5"
  },
  {
   "cell_type": "code",
   "execution_count": 11,
   "outputs": [
    {
     "data": {
      "text/plain": "<qiskit.circuit.instructionset.InstructionSet at 0x267c7ecc940>"
     },
     "execution_count": 11,
     "metadata": {},
     "output_type": "execute_result"
    }
   ],
   "source": [
    "QC.cx(1, 2)"
   ],
   "metadata": {
    "collapsed": false,
    "ExecuteTime": {
     "end_time": "2023-10-13T09:51:12.341042700Z",
     "start_time": "2023-10-13T09:51:12.298426500Z"
    }
   },
   "id": "2f7d7f6b357828a1"
  },
  {
   "cell_type": "code",
   "execution_count": 12,
   "outputs": [
    {
     "data": {
      "text/plain": "     ┌───┐          \nq_0: ┤ H ├──■───────\n     └───┘┌─┴─┐     \nq_1: ─────┤ X ├──■──\n     ┌───┐├───┤┌─┴─┐\nq_2: ┤ X ├┤ H ├┤ X ├\n     └───┘└───┘└───┘\nc: 1/═══════════════\n                    ",
      "text/html": "<pre style=\"word-wrap: normal;white-space: pre;background: #fff0;line-height: 1.1;font-family: &quot;Courier New&quot;,Courier,monospace\">     ┌───┐          \nq_0: ┤ H ├──■───────\n     └───┘┌─┴─┐     \nq_1: ─────┤ X ├──■──\n     ┌───┐├───┤┌─┴─┐\nq_2: ┤ X ├┤ H ├┤ X ├\n     └───┘└───┘└───┘\nc: 1/═══════════════\n                    </pre>"
     },
     "execution_count": 12,
     "metadata": {},
     "output_type": "execute_result"
    }
   ],
   "source": [
    "QC.draw()"
   ],
   "metadata": {
    "collapsed": false,
    "ExecuteTime": {
     "end_time": "2023-10-13T09:51:12.341042700Z",
     "start_time": "2023-10-13T09:51:12.307818600Z"
    }
   },
   "id": "cb4c8ca9f3da33f3"
  },
  {
   "cell_type": "markdown",
   "source": [
    "## Appliquer une porte de permutation (SWAP) entre q0 et q1"
   ],
   "metadata": {
    "collapsed": false
   },
   "id": "8936e6222748bfce"
  },
  {
   "cell_type": "code",
   "execution_count": 13,
   "outputs": [
    {
     "data": {
      "text/plain": "<qiskit.circuit.instructionset.InstructionSet at 0x267c7eccf10>"
     },
     "execution_count": 13,
     "metadata": {},
     "output_type": "execute_result"
    }
   ],
   "source": [
    "QC.cx(0, 1)\n",
    "QC.cx(1, 0)\n",
    "QC.cx(0, 1)"
   ],
   "metadata": {
    "collapsed": false,
    "ExecuteTime": {
     "end_time": "2023-10-13T09:51:12.342043300Z",
     "start_time": "2023-10-13T09:51:12.313043900Z"
    }
   },
   "id": "210588794c90f1dc"
  },
  {
   "cell_type": "code",
   "execution_count": 14,
   "outputs": [
    {
     "data": {
      "text/plain": "     ┌───┐               ┌───┐     \nq_0: ┤ H ├──■─────────■──┤ X ├──■──\n     └───┘┌─┴─┐     ┌─┴─┐└─┬─┘┌─┴─┐\nq_1: ─────┤ X ├──■──┤ X ├──■──┤ X ├\n     ┌───┐├───┤┌─┴─┐└───┘     └───┘\nq_2: ┤ X ├┤ H ├┤ X ├───────────────\n     └───┘└───┘└───┘               \nc: 1/══════════════════════════════\n                                   ",
      "text/html": "<pre style=\"word-wrap: normal;white-space: pre;background: #fff0;line-height: 1.1;font-family: &quot;Courier New&quot;,Courier,monospace\">     ┌───┐               ┌───┐     \nq_0: ┤ H ├──■─────────■──┤ X ├──■──\n     └───┘┌─┴─┐     ┌─┴─┐└─┬─┘┌─┴─┐\nq_1: ─────┤ X ├──■──┤ X ├──■──┤ X ├\n     ┌───┐├───┤┌─┴─┐└───┘     └───┘\nq_2: ┤ X ├┤ H ├┤ X ├───────────────\n     └───┘└───┘└───┘               \nc: 1/══════════════════════════════\n                                   </pre>"
     },
     "execution_count": 14,
     "metadata": {},
     "output_type": "execute_result"
    }
   ],
   "source": [
    "QC.draw()"
   ],
   "metadata": {
    "collapsed": false,
    "ExecuteTime": {
     "end_time": "2023-10-13T09:51:12.354169700Z",
     "start_time": "2023-10-13T09:51:12.336026600Z"
    }
   },
   "id": "313db7a6d4062173"
  },
  {
   "cell_type": "markdown",
   "source": [
    "## Appliquer une porte NOT (X) sur q0 et q1"
   ],
   "metadata": {
    "collapsed": false
   },
   "id": "92156aaf8e304432"
  },
  {
   "cell_type": "code",
   "execution_count": 15,
   "outputs": [
    {
     "data": {
      "text/plain": "<qiskit.circuit.instructionset.InstructionSet at 0x267c7ecd5a0>"
     },
     "execution_count": 15,
     "metadata": {},
     "output_type": "execute_result"
    }
   ],
   "source": [
    "QC.x(0)\n",
    "QC.x(1)"
   ],
   "metadata": {
    "collapsed": false,
    "ExecuteTime": {
     "end_time": "2023-10-13T09:51:12.397640Z",
     "start_time": "2023-10-13T09:51:12.348033300Z"
    }
   },
   "id": "2b9cc13e8a87c97"
  },
  {
   "cell_type": "code",
   "execution_count": 16,
   "outputs": [
    {
     "data": {
      "text/plain": "     ┌───┐               ┌───┐     ┌───┐\nq_0: ┤ H ├──■─────────■──┤ X ├──■──┤ X ├\n     └───┘┌─┴─┐     ┌─┴─┐└─┬─┘┌─┴─┐├───┤\nq_1: ─────┤ X ├──■──┤ X ├──■──┤ X ├┤ X ├\n     ┌───┐├───┤┌─┴─┐└───┘     └───┘└───┘\nq_2: ┤ X ├┤ H ├┤ X ├────────────────────\n     └───┘└───┘└───┘                    \nc: 1/═══════════════════════════════════\n                                        ",
      "text/html": "<pre style=\"word-wrap: normal;white-space: pre;background: #fff0;line-height: 1.1;font-family: &quot;Courier New&quot;,Courier,monospace\">     ┌───┐               ┌───┐     ┌───┐\nq_0: ┤ H ├──■─────────■──┤ X ├──■──┤ X ├\n     └───┘┌─┴─┐     ┌─┴─┐└─┬─┘┌─┴─┐├───┤\nq_1: ─────┤ X ├──■──┤ X ├──■──┤ X ├┤ X ├\n     ┌───┐├───┤┌─┴─┐└───┘     └───┘└───┘\nq_2: ┤ X ├┤ H ├┤ X ├────────────────────\n     └───┘└───┘└───┘                    \nc: 1/═══════════════════════════════════\n                                        </pre>"
     },
     "execution_count": 16,
     "metadata": {},
     "output_type": "execute_result"
    }
   ],
   "source": [
    "QC.draw()"
   ],
   "metadata": {
    "collapsed": false,
    "ExecuteTime": {
     "end_time": "2023-10-13T09:51:12.398640200Z",
     "start_time": "2023-10-13T09:51:12.368073Z"
    }
   },
   "id": "ef3232ed2a11e98"
  },
  {
   "cell_type": "markdown",
   "source": [
    "## Mesurer q0 pour obtenir le résultat"
   ],
   "metadata": {
    "collapsed": false
   },
   "id": "1c44f20a92062a9f"
  },
  {
   "cell_type": "code",
   "execution_count": 17,
   "outputs": [
    {
     "data": {
      "text/plain": "<qiskit.circuit.instructionset.InstructionSet at 0x267c7ecd690>"
     },
     "execution_count": 17,
     "metadata": {},
     "output_type": "execute_result"
    }
   ],
   "source": [
    "QC.measure(0, 0)"
   ],
   "metadata": {
    "collapsed": false,
    "ExecuteTime": {
     "end_time": "2023-10-13T09:51:12.399514Z",
     "start_time": "2023-10-13T09:51:12.379078200Z"
    }
   },
   "id": "78544b0244abd444"
  },
  {
   "cell_type": "code",
   "execution_count": 18,
   "outputs": [
    {
     "data": {
      "text/plain": "     ┌───┐               ┌───┐     ┌───┐┌─┐\nq_0: ┤ H ├──■─────────■──┤ X ├──■──┤ X ├┤M├\n     └───┘┌─┴─┐     ┌─┴─┐└─┬─┘┌─┴─┐├───┤└╥┘\nq_1: ─────┤ X ├──■──┤ X ├──■──┤ X ├┤ X ├─╫─\n     ┌───┐├───┤┌─┴─┐└───┘     └───┘└───┘ ║ \nq_2: ┤ X ├┤ H ├┤ X ├─────────────────────╫─\n     └───┘└───┘└───┘                     ║ \nc: 1/════════════════════════════════════╩═\n                                         0 ",
      "text/html": "<pre style=\"word-wrap: normal;white-space: pre;background: #fff0;line-height: 1.1;font-family: &quot;Courier New&quot;,Courier,monospace\">     ┌───┐               ┌───┐     ┌───┐┌─┐\nq_0: ┤ H ├──■─────────■──┤ X ├──■──┤ X ├┤M├\n     └───┘┌─┴─┐     ┌─┴─┐└─┬─┘┌─┴─┐├───┤└╥┘\nq_1: ─────┤ X ├──■──┤ X ├──■──┤ X ├┤ X ├─╫─\n     ┌───┐├───┤┌─┴─┐└───┘     └───┘└───┘ ║ \nq_2: ┤ X ├┤ H ├┤ X ├─────────────────────╫─\n     └───┘└───┘└───┘                     ║ \nc: 1/════════════════════════════════════╩═\n                                         0 </pre>"
     },
     "execution_count": 18,
     "metadata": {},
     "output_type": "execute_result"
    }
   ],
   "source": [
    "QC.draw()"
   ],
   "metadata": {
    "collapsed": false,
    "ExecuteTime": {
     "end_time": "2023-10-13T09:51:12.414548600Z",
     "start_time": "2023-10-13T09:51:12.395639Z"
    }
   },
   "id": "2ce04cca8bec4d7c"
  },
  {
   "cell_type": "markdown",
   "source": [
    "## Simuler le circuit"
   ],
   "metadata": {
    "collapsed": false
   },
   "id": "87b12e4d82891954"
  },
  {
   "cell_type": "code",
   "execution_count": 19,
   "outputs": [],
   "source": [
    "simulator = Aer.get_backend('qasm_simulator')\n",
    "result = execute(QC, backend=simulator, shots=1024).result()"
   ],
   "metadata": {
    "collapsed": false,
    "ExecuteTime": {
     "end_time": "2023-10-13T09:51:12.680345Z",
     "start_time": "2023-10-13T09:51:12.414548600Z"
    }
   },
   "id": "de38a826cf0fb89"
  },
  {
   "cell_type": "markdown",
   "source": [
    "## Afficher le résultat"
   ],
   "metadata": {
    "collapsed": false
   },
   "id": "8ad409b2043ebabf"
  },
  {
   "cell_type": "code",
   "execution_count": 20,
   "outputs": [
    {
     "name": "stdout",
     "output_type": "stream",
     "text": [
      "{'0': 527, '1': 497}\n"
     ]
    }
   ],
   "source": [
    "counts = result.get_counts(QC)\n",
    "print(counts)"
   ],
   "metadata": {
    "collapsed": false,
    "ExecuteTime": {
     "end_time": "2023-10-13T09:51:12.696103600Z",
     "start_time": "2023-10-13T09:51:12.680345Z"
    }
   },
   "id": "7ed7ed11367081f0"
  },
  {
   "cell_type": "markdown",
   "source": [
    "## Tracer l'histogramme des résultats"
   ],
   "metadata": {
    "collapsed": false
   },
   "id": "9a5b438849913826"
  },
  {
   "cell_type": "code",
   "execution_count": 21,
   "outputs": [
    {
     "data": {
      "text/plain": "<Figure size 700x500 with 1 Axes>",
      "image/png": "[encoded data removed]"
     },
     "execution_count": 21,
     "metadata": {},
     "output_type": "execute_result"
    }
   ],
   "source": [
    "plot_histogram(counts)"
   ],
   "metadata": {
    "collapsed": false,
    "ExecuteTime": {
     "end_time": "2023-10-13T09:51:13.067550500Z",
     "start_time": "2023-10-13T09:51:12.696103600Z"
    }
   },
   "id": "5e412bc4e2eebd3f"
  }
 ],
 "metadata": {
  "kernelspec": {
   "display_name": "Python 3",
   "language": "python",
   "name": "python3"
  },
  "language_info": {
   "codemirror_mode": {
    "name": "ipython",
    "version": 2
   },
   "file_extension": ".py",
   "mimetype": "text/x-python",
   "name": "python",
   "nbconvert_exporter": "python",
   "pygments_lexer": "ipython2",
   "version": "2.7.6"
  }
 },
 "nbformat": 4,
 "nbformat_minor": 5
}
