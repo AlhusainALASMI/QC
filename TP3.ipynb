{
 "cells": [
  {
   "cell_type": "markdown",
   "source": [
    "# Problématique :\n",
    "\n",
    "### Bob est victime d'un mauvais sort, il se sent toujours un peu déphasé. Vous savez que le rituel pour lever cette malédiction est consigné dans un grimoire qui se trouve dans une bibliothèque quantique.\n",
    "\n"
   ],
   "metadata": {
    "collapsed": false
   },
   "id": "dcc7a6f182ac9dd"
  },
  {
   "cell_type": "markdown",
   "source": [
    "# <img src=\"mal.png\" alt=\"alt text\" width=\"800\"/>"
   ],
   "metadata": {
    "collapsed": false
   },
   "id": "a915de8e38bb92bf"
  },
  {
   "cell_type": "markdown",
   "source": [
    "### Le problème est que dans une bibliothèque quantique l'emprunt se fait toujours au hasard. En empruntant un grimoire, vous ne savez pas sur lequel vous allez tomber. La bonne nouvelle est que cette section de la bibliothèque ne compte que 3 autres grimoires. La mauvaise ... c'est que ceux-ci ne contiennent que plus de malédictions"
   ],
   "metadata": {
    "collapsed": false
   },
   "id": "c8b1784cc67231f7"
  },
  {
   "cell_type": "markdown",
   "source": [
    "# <img src=\"ord1.png\" alt=\"alt text\" width=\"800\"/>"
   ],
   "metadata": {
    "collapsed": false
   },
   "id": "d368d03e6658f97b"
  },
  {
   "cell_type": "markdown",
   "source": [
    "### Pour vous aider, vous faites appel à Aïka qui a le pouvoir de marquer le bon grimoire en inversant sa phase quantique."
   ],
   "metadata": {
    "collapsed": false
   },
   "id": "83f26df7b1b077b0"
  },
  {
   "cell_type": "markdown",
   "source": [
    "| <img src=\"AK.png\" alt=\"alt text 1\" width=\"700\"/> | <img src=\"ord.png\" alt=\"alt text 2\" width=\"700\"/> |\n",
    "|:------------------------------------------------:|:-------------------------------------------------:|"
   ],
   "metadata": {
    "collapsed": false
   },
   "id": "3dd98f023413e7a3"
  },
  {
   "cell_type": "markdown",
   "source": [
    "### En combinant vos connaissances à celles d'Aïka, vous mettez en place un algorithme bien connu en informatique quantique l'algorithme de Grover. La bibliothèque quantique attribue initialement une chance égale d'emprunter n'importe lequel de ces grimoires. Dans l'état actuel des choses si vous emprunter un grimoire, vous avez 1 chance sur 4 de tomber sur le bon, on peut donc attribuer à chacun des grimoires une probabilité de 1/4. Pour décrire la situation dans le monde quantique on assigne d'abord chaque grimoire à un état quantique. Ensuite, il est plus facile de travailler avec l'histogramme des amplitudes de probabilité qui permet de montrer la phase de chaque état les amplitudes de probabilité de chaque état sont fixés à 1/2 Les probabilités d'obtenir chacun de ces résultats sont en fait données par le carré de l'amplitude de probabilité. Initialement, chaque grimoire a une amplitude de probabilité de 1/2 et une probabilité de 1/2 au carré est 1/4. Aïka utilise son pouvoir pour marquer le grimoire dans lequel se trouve le rituel en inversant sa phase mais n'allez pas emprunter un grimoire trop vite. En effet, la probabilité d'emprunter le bon grimoire n'a pas changé et est toujours de 1 chance sur 4. Vous prenez alors le relais avec un opérateur quantique que vous avez conçuvous l'appelez le diffuseur et il agit d'une manière bien particulière.\n",
    "\n",
    "### Le diffuseur lorsqu'appliqué sur l'état préparé par Aïka agit sur les 4 grimoires en parallèle comme si chaque grimoire avait 100% de chances d'être emprunté l'état qu'il produit est simplement la somme des 4 résultats individuels, l'application de votre diffuseur permet aux amplitudes de probabilité d'interférer entre elles ainsi les amplitudes négatives compensent les amplitudes positives et les positives s'additionnent entre elles ce qui augmente l'amplitude associée au grimoire recherché et diminue l'amplitude des autres.\n",
    "\n",
    "### Dans le cas présent, l'application de l'inversion de phase et de l'opérateur d'interférence augmente à 100% la probabilité d'emprunt du bon grimoire."
   ],
   "metadata": {
    "collapsed": false
   },
   "id": "86b474cdde5b646"
  },
  {
   "cell_type": "markdown",
   "source": [
    "# <img src=\"stat.png\" alt=\"alt text\" width=\"800\"/>"
   ],
   "metadata": {
    "collapsed": false
   },
   "id": "43c35ca36fad8307"
  },
  {
   "cell_type": "markdown",
   "source": [
    "# Solution: "
   ],
   "metadata": {
    "collapsed": false
   },
   "id": "cf24225b9cbd6546"
  },
  {
   "cell_type": "markdown",
   "source": [
    "## Importation des librairies"
   ],
   "metadata": {
    "collapsed": false
   },
   "id": "30187ff7631838fe"
  },
  {
   "cell_type": "code",
   "execution_count": 17,
   "outputs": [],
   "source": [
    "from qiskit import QuantumCircuit, execute, Aer\n",
    "from qiskit.visualization import plot_histogram\n",
    "from qiskit import QuantumRegister"
   ],
   "metadata": {
    "collapsed": false,
    "ExecuteTime": {
     "end_time": "2024-01-12T07:56:19.209891500Z",
     "start_time": "2024-01-12T07:56:19.073678900Z"
    }
   },
   "id": "eff726a838dbc3a5"
  },
  {
   "cell_type": "markdown",
   "source": [
    "## Création du circuit quantique"
   ],
   "metadata": {
    "collapsed": false
   },
   "id": "48164d80710ce169"
  },
  {
   "cell_type": "code",
   "execution_count": 18,
   "outputs": [],
   "source": [
    "QC = QuantumCircuit(2)"
   ],
   "metadata": {
    "collapsed": false,
    "ExecuteTime": {
     "end_time": "2024-01-12T07:56:19.300787600Z",
     "start_time": "2024-01-12T07:56:19.087010300Z"
    }
   },
   "id": "46ca734a12b493bf"
  },
  {
   "cell_type": "markdown",
   "source": [
    "# Oracle "
   ],
   "metadata": {
    "collapsed": false
   },
   "id": "63cab7840355acf2"
  },
  {
   "cell_type": "markdown",
   "source": [
    "## Porte Hadamard\n",
    "\n",
    "### Il est possible d'utiliser un système de 2 qubits possédant les 4 états de base suivants, on associe chacun d'eux à un des grimoires.\n",
    "\n",
    "# <img src=\"ord2.png\" alt=\"alt text\" width=\"600\"/>\n"
   ],
   "metadata": {
    "collapsed": false
   },
   "id": "7de64d69bcddd290"
  },
  {
   "cell_type": "code",
   "execution_count": null,
   "outputs": [],
   "source": [
    "QC.h(0)\n",
    "QC.h(1)"
   ],
   "metadata": {
    "collapsed": false,
    "is_executing": true
   },
   "id": "c563caf18b1d3309"
  },
  {
   "cell_type": "code",
   "execution_count": null,
   "outputs": [
    {
     "data": {
      "text/plain": "<Figure size 203.683x200.667 with 1 Axes>",
      "image/png": "[encoded data removed]"
     },
     "execution_count": 20,
     "metadata": {},
     "output_type": "execute_result"
    }
   ],
   "source": [
    "QC.draw(output='mpl')"
   ],
   "metadata": {
    "collapsed": false,
    "is_executing": true,
    "ExecuteTime": {
     "start_time": "2024-01-12T07:56:19.124781400Z"
    }
   },
   "id": "797f1f036dcd5066"
  },
  {
   "cell_type": "markdown",
   "source": [
    "## Rituel de Aïka"
   ],
   "metadata": {
    "collapsed": false
   },
   "id": "d7ebb6c68e5b81b0"
  },
  {
   "cell_type": "markdown",
   "source": [
    "### Pour représenter l'application du pouvoir de Aïka, on applique une porte NOT sur le premier qubit, ensuite une porte controlled-Z est appliquée sur les deux qubits. Enfin, on applique une porte NOT sur le premier qubit. "
   ],
   "metadata": {
    "collapsed": false
   },
   "id": "daa35d4b613a1786"
  },
  {
   "cell_type": "code",
   "execution_count": null,
   "outputs": [
    {
     "data": {
      "text/plain": "<qiskit.circuit.instructionset.InstructionSet at 0x1caa8e81f00>"
     },
     "execution_count": 21,
     "metadata": {},
     "output_type": "execute_result"
    }
   ],
   "source": [
    "QC.x(0)\n",
    "QC.cz(0,1)\n",
    "QC.x(0)\n",
    "QC.barrier()"
   ],
   "metadata": {
    "collapsed": false,
    "is_executing": true,
    "ExecuteTime": {
     "start_time": "2024-01-12T07:56:19.231996400Z"
    }
   },
   "id": "4731a9d7aa9d3d"
  },
  {
   "cell_type": "code",
   "execution_count": null,
   "outputs": [
    {
     "data": {
      "text/plain": "<Figure size 538.128x200.667 with 1 Axes>",
      "image/png": "[encoded data removed]"
     },
     "execution_count": 22,
     "metadata": {},
     "output_type": "execute_result"
    }
   ],
   "source": [
    "QC.draw(output='mpl')"
   ],
   "metadata": {
    "collapsed": false,
    "is_executing": true,
    "ExecuteTime": {
     "start_time": "2024-01-12T07:56:19.247568Z"
    }
   },
   "id": "9c1924f4b67b397"
  },
  {
   "cell_type": "markdown",
   "source": [
    "# Diffuseur"
   ],
   "metadata": {
    "collapsed": false
   },
   "id": "ae0ddc1ec83338a1"
  },
  {
   "cell_type": "markdown",
   "source": [
    "### Pour représenter l'application du diffuseur, on applique une porte Hadamard sur les deux qubits, ensuite une porte Z sur les deux qubits et une porte controlled-Z sur les deux qubits. Enfin, on applique une porte Hadamard sur les deux qubits."
   ],
   "metadata": {
    "collapsed": false
   },
   "id": "ed5038d4603acb9f"
  },
  {
   "cell_type": "code",
   "execution_count": null,
   "outputs": [
    {
     "data": {
      "text/plain": "<qiskit.circuit.instructionset.InstructionSet at 0x1caa8f0f430>"
     },
     "execution_count": 23,
     "metadata": {},
     "output_type": "execute_result"
    }
   ],
   "source": [
    "QC.h(0)\n",
    "QC.h(1)\n",
    "QC.z(0)\n",
    "QC.z(1)\n",
    "QC.cz(0,1)\n",
    "QC.h(0)\n",
    "QC.h(1)"
   ],
   "metadata": {
    "collapsed": false,
    "is_executing": true,
    "ExecuteTime": {
     "start_time": "2024-01-12T07:56:19.386821200Z"
    }
   },
   "id": "c7127e87e5f8be43"
  },
  {
   "cell_type": "code",
   "execution_count": null,
   "outputs": [
    {
     "data": {
      "text/plain": "<Figure size 872.572x200.667 with 1 Axes>",
      "image/png": "[encoded data removed]"
     },
     "execution_count": 24,
     "metadata": {},
     "output_type": "execute_result"
    }
   ],
   "source": [
    "QC.draw(output='mpl')"
   ],
   "metadata": {
    "collapsed": false,
    "is_executing": true,
    "ExecuteTime": {
     "start_time": "2024-01-12T07:56:19.405557300Z"
    }
   },
   "id": "f05580fd58d02928"
  },
  {
   "cell_type": "markdown",
   "source": [
    "## Mesure les qubits"
   ],
   "metadata": {
    "collapsed": false
   },
   "id": "ae467ac0504d329"
  },
  {
   "cell_type": "code",
   "execution_count": null,
   "outputs": [],
   "source": [
    "QC.measure_all()"
   ],
   "metadata": {
    "collapsed": false,
    "is_executing": true,
    "ExecuteTime": {
     "start_time": "2024-01-12T07:56:19.592030900Z"
    }
   },
   "id": "fb3b02798037140"
  },
  {
   "cell_type": "code",
   "execution_count": null,
   "outputs": [
    {
     "data": {
      "text/plain": "<Figure size 1165.66x284.278 with 1 Axes>",
      "image/png": "[encoded data removed]"
     },
     "execution_count": 26,
     "metadata": {},
     "output_type": "execute_result"
    }
   ],
   "source": [
    "QC.draw(output='mpl')"
   ],
   "metadata": {
    "collapsed": false,
    "is_executing": true,
    "ExecuteTime": {
     "start_time": "2024-01-12T07:56:19.607822300Z"
    }
   },
   "id": "8bc0132f77046247"
  },
  {
   "cell_type": "markdown",
   "source": [
    "## Simuler le circuit quantique avec 1024 shots"
   ],
   "metadata": {
    "collapsed": false
   },
   "id": "3d284a159b7b59b9"
  },
  {
   "cell_type": "code",
   "execution_count": 27,
   "outputs": [],
   "source": [
    "simulator = Aer.get_backend('qasm_simulator')\n",
    "result = execute(QC, simulator, shots=10000).result()"
   ],
   "metadata": {
    "collapsed": false,
    "ExecuteTime": {
     "end_time": "2024-01-12T07:56:19.888210400Z",
     "start_time": "2024-01-12T07:56:19.811271700Z"
    }
   },
   "id": "d8d735e27a534ee0"
  },
  {
   "cell_type": "code",
   "execution_count": 28,
   "outputs": [
    {
     "data": {
      "text/plain": "{'10': 10000}"
     },
     "execution_count": 28,
     "metadata": {},
     "output_type": "execute_result"
    }
   ],
   "source": [
    "counts = result.get_counts(QC)\n",
    "counts"
   ],
   "metadata": {
    "collapsed": false,
    "ExecuteTime": {
     "end_time": "2024-01-12T07:56:19.889211700Z",
     "start_time": "2024-01-12T07:56:19.854901900Z"
    }
   },
   "id": "e877909cdd2760c9"
  },
  {
   "cell_type": "markdown",
   "source": [
    "## Visualiser les résultats"
   ],
   "metadata": {
    "collapsed": false
   },
   "id": "a82c0e2a7aa5da88"
  },
  {
   "cell_type": "code",
   "execution_count": 29,
   "outputs": [
    {
     "data": {
      "text/plain": "<Figure size 700x500 with 1 Axes>",
      "image/png": "[encoded data removed]"
     },
     "execution_count": 29,
     "metadata": {},
     "output_type": "execute_result"
    }
   ],
   "source": [
    "plot_histogram(counts)"
   ],
   "metadata": {
    "collapsed": false,
    "ExecuteTime": {
     "end_time": "2024-01-12T07:56:19.982561400Z",
     "start_time": "2024-01-12T07:56:19.868425400Z"
    }
   },
   "id": "55dd2ec5babce208"
  }
 ],
 "metadata": {
  "kernelspec": {
   "display_name": "Python 3",
   "language": "python",
   "name": "python3"
  },
  "language_info": {
   "codemirror_mode": {
    "name": "ipython",
    "version": 2
   },
   "file_extension": ".py",
   "mimetype": "text/x-python",
   "name": "python",
   "nbconvert_exporter": "python",
   "pygments_lexer": "ipython2",
   "version": "2.7.6"
  }
 },
 "nbformat": 4,
 "nbformat_minor": 5
}
