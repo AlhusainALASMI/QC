{
 "cells": [
  {
   "cell_type": "markdown",
   "source": [
    "# Problématique :\n",
    " \n",
    "Vous marchez vers votre destin quand soudain vous rencontrez deux portes derrière l'une d'entre elles se trouve un trésor mais vous ne savez pas lequel. Il y a un gardien devant chaque porte et les deux savent où se trouve le trésor. L'un des deux gardiens ment toujours tandis que l'autre dit la vérité. Vous ne savez pas lequel ment ou lequel dit la vérité. Les deux gardiens savent lequel ment. Votre défi : posez une seule question à l'un des deux gardiens pour savoir où se trouve le trésor. Vous pouvez appuyer sur pause pour y réfléchir ou écouter la réponse tout de suite. La question que vous devez poser est la suivante : quelle porte l'autre gardien me dirait-il de ne pas ouvrir ?"
   ],
   "metadata": {
    "collapsed": false
   },
   "id": "9eec240d1fb1c6cd"
  },
  {
   "cell_type": "markdown",
   "source": [
    "## Importation des librairies"
   ],
   "metadata": {
    "collapsed": false
   },
   "id": "26e678ff2ff21ef2"
  },
  {
   "cell_type": "code",
   "execution_count": 1,
   "outputs": [],
   "source": [
    "from qiskit import QuantumCircuit, execute, Aer\n",
    "from qiskit.visualization import plot_histogram"
   ],
   "metadata": {
    "collapsed": false,
    "ExecuteTime": {
     "end_time": "2023-11-10T07:19:47.378294800Z",
     "start_time": "2023-11-10T07:19:45.481334100Z"
    }
   },
   "id": "33150ae1419c6e92"
  },
  {
   "cell_type": "markdown",
   "source": [
    "## Création du circuit\n",
    "\n",
    "##### Nous deuvons un circuit de 3 qubits réprensantant les 2 guardiens et le fait que l'un d'entre eux ment"
   ],
   "metadata": {
    "collapsed": false
   },
   "id": "bdfd6baeee3fba4a"
  },
  {
   "cell_type": "code",
   "execution_count": 2,
   "outputs": [],
   "source": [
    "QC = QuantumCircuit(3)"
   ],
   "metadata": {
    "collapsed": false,
    "ExecuteTime": {
     "end_time": "2023-11-10T07:19:47.392246500Z",
     "start_time": "2023-11-10T07:19:47.379202400Z"
    }
   },
   "id": "238cfa9c7d3c6eed"
  },
  {
   "cell_type": "markdown",
   "source": [
    "## Appliquer la porte Hadamard sur le premier qubit (q0)"
   ],
   "metadata": {
    "collapsed": false
   },
   "id": "af3dc1d9d2ce29da"
  },
  {
   "cell_type": "code",
   "execution_count": 3,
   "outputs": [
    {
     "data": {
      "text/plain": "<qiskit.circuit.instructionset.InstructionSet at 0x1d135971e70>"
     },
     "execution_count": 3,
     "metadata": {},
     "output_type": "execute_result"
    }
   ],
   "source": [
    "QC.h(0)"
   ],
   "metadata": {
    "collapsed": false,
    "ExecuteTime": {
     "end_time": "2023-11-10T07:19:47.450830800Z",
     "start_time": "2023-11-10T07:19:47.397758100Z"
    }
   },
   "id": "1ccee5eaaace3e4e"
  },
  {
   "cell_type": "code",
   "execution_count": 4,
   "outputs": [
    {
     "data": {
      "text/plain": "<Figure size 203.885x284.278 with 1 Axes>",
      "image/png": "[encoded data removed]"
     },
     "execution_count": 4,
     "metadata": {},
     "output_type": "execute_result"
    }
   ],
   "source": [
    "QC.draw(output='mpl')"
   ],
   "metadata": {
    "collapsed": false,
    "ExecuteTime": {
     "end_time": "2023-11-10T07:19:48.175950Z",
     "start_time": "2023-11-10T07:19:47.412366900Z"
    }
   },
   "id": "353e8e46385f8be6"
  },
  {
   "cell_type": "markdown",
   "source": [
    "## Appliquer la porte Hadamard sur le premier qubit (q2)"
   ],
   "metadata": {
    "collapsed": false
   },
   "id": "bef60f5b0ff6daf"
  },
  {
   "cell_type": "code",
   "execution_count": 5,
   "outputs": [
    {
     "data": {
      "text/plain": "<qiskit.circuit.instructionset.InstructionSet at 0x1d13775a620>"
     },
     "execution_count": 5,
     "metadata": {},
     "output_type": "execute_result"
    }
   ],
   "source": [
    "QC.h(2)"
   ],
   "metadata": {
    "collapsed": false,
    "ExecuteTime": {
     "end_time": "2023-11-10T07:19:48.193637Z",
     "start_time": "2023-11-10T07:19:48.168879400Z"
    }
   },
   "id": "be7e38e0f712eee2"
  },
  {
   "cell_type": "code",
   "execution_count": 6,
   "outputs": [
    {
     "data": {
      "text/plain": "<Figure size 203.885x284.278 with 1 Axes>",
      "image/png": "[encoded data removed]"
     },
     "execution_count": 6,
     "metadata": {},
     "output_type": "execute_result"
    }
   ],
   "source": [
    "QC.draw(output='mpl')"
   ],
   "metadata": {
    "collapsed": false,
    "ExecuteTime": {
     "end_time": "2023-11-10T07:19:48.279388500Z",
     "start_time": "2023-11-10T07:19:48.184462Z"
    }
   },
   "id": "ec3550108b2eca7c"
  },
  {
   "cell_type": "markdown",
   "source": [
    "## Appliquer la porte CNOT entre q0 (control) et q1 (target)"
   ],
   "metadata": {
    "collapsed": false
   },
   "id": "cff170b72e9f7d8"
  },
  {
   "cell_type": "code",
   "execution_count": 7,
   "outputs": [
    {
     "data": {
      "text/plain": "<qiskit.circuit.instructionset.InstructionSet at 0x1d13780f4c0>"
     },
     "execution_count": 7,
     "metadata": {},
     "output_type": "execute_result"
    }
   ],
   "source": [
    "QC.cx(0, 1)"
   ],
   "metadata": {
    "collapsed": false,
    "ExecuteTime": {
     "end_time": "2023-11-10T07:19:48.296668Z",
     "start_time": "2023-11-10T07:19:48.279388500Z"
    }
   },
   "id": "688aca3fa9b8911d"
  },
  {
   "cell_type": "code",
   "execution_count": 8,
   "outputs": [
    {
     "data": {
      "text/plain": "<Figure size 287.496x284.278 with 1 Axes>",
      "image/png": "[encoded data removed]"
     },
     "execution_count": 8,
     "metadata": {},
     "output_type": "execute_result"
    }
   ],
   "source": [
    "QC.draw(output='mpl')"
   ],
   "metadata": {
    "collapsed": false,
    "ExecuteTime": {
     "end_time": "2023-11-10T07:19:48.408290400Z",
     "start_time": "2023-11-10T07:19:48.294488600Z"
    }
   },
   "id": "714b17a6262548c3"
  },
  {
   "cell_type": "markdown",
   "source": [
    "## Appliquer la porte CNOT entre q2 (control) et q1 (target)"
   ],
   "metadata": {
    "collapsed": false
   },
   "id": "2ac29e54f3fdc344"
  },
  {
   "cell_type": "code",
   "execution_count": 9,
   "outputs": [
    {
     "data": {
      "text/plain": "<qiskit.circuit.instructionset.InstructionSet at 0x1d1378c83a0>"
     },
     "execution_count": 9,
     "metadata": {},
     "output_type": "execute_result"
    }
   ],
   "source": [
    "QC.cx(2, 1)"
   ],
   "metadata": {
    "collapsed": false,
    "ExecuteTime": {
     "end_time": "2023-11-10T07:19:48.424621700Z",
     "start_time": "2023-11-10T07:19:48.405238800Z"
    }
   },
   "id": "baf9c23e38b7454"
  },
  {
   "cell_type": "code",
   "execution_count": 10,
   "outputs": [
    {
     "data": {
      "text/plain": "<Figure size 371.107x284.278 with 1 Axes>",
      "image/png": "[encoded data removed]"
     },
     "execution_count": 10,
     "metadata": {},
     "output_type": "execute_result"
    }
   ],
   "source": [
    "QC.draw(output='mpl')"
   ],
   "metadata": {
    "collapsed": false,
    "ExecuteTime": {
     "end_time": "2023-11-10T07:19:48.545830500Z",
     "start_time": "2023-11-10T07:19:48.421056900Z"
    }
   },
   "id": "17d8f8f857f380ff"
  },
  {
   "cell_type": "markdown",
   "source": [
    "## Appliquer une porte NOT sur q2"
   ],
   "metadata": {
    "collapsed": false
   },
   "id": "367c81accc0be7f"
  },
  {
   "cell_type": "code",
   "execution_count": 11,
   "outputs": [
    {
     "data": {
      "text/plain": "<qiskit.circuit.instructionset.InstructionSet at 0x1d137963b20>"
     },
     "execution_count": 11,
     "metadata": {},
     "output_type": "execute_result"
    }
   ],
   "source": [
    "QC.x(2)"
   ],
   "metadata": {
    "collapsed": false,
    "ExecuteTime": {
     "end_time": "2023-11-10T07:19:48.601576400Z",
     "start_time": "2023-11-10T07:19:48.545830500Z"
    }
   },
   "id": "7bba8c5e7b64be84"
  },
  {
   "cell_type": "code",
   "execution_count": 12,
   "outputs": [
    {
     "data": {
      "text/plain": "<Figure size 454.719x284.278 with 1 Axes>",
      "image/png": "[encoded data removed]"
     },
     "execution_count": 12,
     "metadata": {},
     "output_type": "execute_result"
    }
   ],
   "source": [
    "QC.draw(output='mpl')"
   ],
   "metadata": {
    "collapsed": false,
    "ExecuteTime": {
     "end_time": "2023-11-10T07:19:48.686003700Z",
     "start_time": "2023-11-10T07:19:48.573331500Z"
    }
   },
   "id": "ade77b6fd7b0fdf8"
  },
  {
   "cell_type": "markdown",
   "source": [
    "## Appliquer une porte CNOT entre q2 (control) et q0 (target)"
   ],
   "metadata": {
    "collapsed": false
   },
   "id": "ff26bf1b3bfd3be5"
  },
  {
   "cell_type": "code",
   "execution_count": 13,
   "outputs": [
    {
     "data": {
      "text/plain": "<qiskit.circuit.instructionset.InstructionSet at 0x1d1379f1720>"
     },
     "execution_count": 13,
     "metadata": {},
     "output_type": "execute_result"
    }
   ],
   "source": [
    "QC.cx(2, 0)"
   ],
   "metadata": {
    "collapsed": false,
    "ExecuteTime": {
     "end_time": "2023-11-10T07:19:48.742206800Z",
     "start_time": "2023-11-10T07:19:48.682564400Z"
    }
   },
   "id": "2f7d7f6b357828a1"
  },
  {
   "cell_type": "code",
   "execution_count": 14,
   "outputs": [
    {
     "data": {
      "text/plain": "<Figure size 538.33x284.278 with 1 Axes>",
      "image/png": "[encoded data removed]"
     },
     "execution_count": 14,
     "metadata": {},
     "output_type": "execute_result"
    }
   ],
   "source": [
    "QC.draw(output='mpl')"
   ],
   "metadata": {
    "collapsed": false,
    "ExecuteTime": {
     "end_time": "2023-11-10T07:19:48.843368200Z",
     "start_time": "2023-11-10T07:19:48.699097700Z"
    }
   },
   "id": "cb4c8ca9f3da33f3"
  },
  {
   "cell_type": "markdown",
   "source": [
    "## Appliquer une porte NOT sur q2"
   ],
   "metadata": {
    "collapsed": false
   },
   "id": "92156aaf8e304432"
  },
  {
   "cell_type": "code",
   "execution_count": 15,
   "outputs": [
    {
     "data": {
      "text/plain": "<qiskit.circuit.instructionset.InstructionSet at 0x1d137a7a830>"
     },
     "execution_count": 15,
     "metadata": {},
     "output_type": "execute_result"
    }
   ],
   "source": [
    "QC.x(2)"
   ],
   "metadata": {
    "collapsed": false,
    "ExecuteTime": {
     "end_time": "2023-11-10T07:19:48.933273400Z",
     "start_time": "2023-11-10T07:19:48.840778600Z"
    }
   },
   "id": "2b9cc13e8a87c97"
  },
  {
   "cell_type": "code",
   "execution_count": 16,
   "outputs": [
    {
     "data": {
      "text/plain": "<Figure size 621.941x284.278 with 1 Axes>",
      "image/png": "[encoded data removed]"
     },
     "execution_count": 16,
     "metadata": {},
     "output_type": "execute_result"
    }
   ],
   "source": [
    "QC.draw(output='mpl')"
   ],
   "metadata": {
    "collapsed": false,
    "ExecuteTime": {
     "end_time": "2023-11-10T07:19:49.135114900Z",
     "start_time": "2023-11-10T07:19:48.855896200Z"
    }
   },
   "id": "ef3232ed2a11e98"
  },
  {
   "cell_type": "markdown",
   "source": [
    "## Appliquer une porte SWAP entre q0 et q1"
   ],
   "metadata": {
    "collapsed": false
   },
   "id": "1c44f20a92062a9f"
  },
  {
   "cell_type": "code",
   "execution_count": 17,
   "outputs": [
    {
     "data": {
      "text/plain": "<qiskit.circuit.instructionset.InstructionSet at 0x1d137a7b820>"
     },
     "execution_count": 17,
     "metadata": {},
     "output_type": "execute_result"
    }
   ],
   "source": [
    "QC.swap(0, 1)"
   ],
   "metadata": {
    "collapsed": false,
    "ExecuteTime": {
     "end_time": "2023-11-10T07:19:49.137117600Z",
     "start_time": "2023-11-10T07:19:49.117539100Z"
    }
   },
   "id": "78544b0244abd444"
  },
  {
   "cell_type": "code",
   "execution_count": 18,
   "outputs": [
    {
     "data": {
      "text/plain": "<Figure size 621.941x284.278 with 1 Axes>",
      "image/png": "[encoded data removed]"
     },
     "execution_count": 18,
     "metadata": {},
     "output_type": "execute_result"
    }
   ],
   "source": [
    "QC.draw(output='mpl')"
   ],
   "metadata": {
    "collapsed": false,
    "ExecuteTime": {
     "end_time": "2023-11-10T07:19:49.404276200Z",
     "start_time": "2023-11-10T07:19:49.133094900Z"
    }
   },
   "id": "2ce04cca8bec4d7c"
  },
  {
   "cell_type": "markdown",
   "source": [
    "## Appliquer une porte NOT sur q0 et une autre sur q1"
   ],
   "metadata": {
    "collapsed": false
   },
   "id": "2dc72fc5cb2b76d2"
  },
  {
   "cell_type": "code",
   "execution_count": 19,
   "outputs": [
    {
     "data": {
      "text/plain": "<qiskit.circuit.instructionset.InstructionSet at 0x1d137b94250>"
     },
     "execution_count": 19,
     "metadata": {},
     "output_type": "execute_result"
    }
   ],
   "source": [
    "QC.x(0)\n",
    "QC.x(1)"
   ],
   "metadata": {
    "collapsed": false,
    "ExecuteTime": {
     "end_time": "2023-11-10T07:19:49.405276400Z",
     "start_time": "2023-11-10T07:19:49.390217300Z"
    }
   },
   "id": "4abf3b6b5300cde2"
  },
  {
   "cell_type": "code",
   "execution_count": 20,
   "outputs": [
    {
     "data": {
      "text/plain": "<Figure size 705.552x284.278 with 1 Axes>",
      "image/png": "[encoded data removed]"
     },
     "execution_count": 20,
     "metadata": {},
     "output_type": "execute_result"
    }
   ],
   "source": [
    "QC.draw(output='mpl')"
   ],
   "metadata": {
    "collapsed": false,
    "ExecuteTime": {
     "end_time": "2023-11-10T07:19:49.718169300Z",
     "start_time": "2023-11-10T07:19:49.404276200Z"
    }
   },
   "id": "38d32c8d89d13490"
  },
  {
   "cell_type": "markdown",
   "source": [
    "## Réappliquer la même séquence de portes que précédemment afin de savoir quel gardien ment"
   ],
   "metadata": {
    "collapsed": false
   },
   "id": "17f1a3e51872b811"
  },
  {
   "cell_type": "code",
   "execution_count": 21,
   "outputs": [
    {
     "data": {
      "text/plain": "<qiskit.circuit.instructionset.InstructionSet at 0x1d137c50970>"
     },
     "execution_count": 21,
     "metadata": {},
     "output_type": "execute_result"
    }
   ],
   "source": [
    "QC.cx(2, 1)\n",
    "QC.x(2)\n",
    "QC.cx(2,0)\n",
    "QC.x(2)"
   ],
   "metadata": {
    "collapsed": false,
    "ExecuteTime": {
     "end_time": "2023-11-10T07:19:49.848354100Z",
     "start_time": "2023-11-10T07:19:49.721695100Z"
    }
   },
   "id": "b4b8c8aea21a79bc"
  },
  {
   "cell_type": "code",
   "execution_count": 22,
   "outputs": [
    {
     "data": {
      "text/plain": "<Figure size 1040x284.278 with 1 Axes>",
      "image/png": "[encoded data removed]"
     },
     "execution_count": 22,
     "metadata": {},
     "output_type": "execute_result"
    }
   ],
   "source": [
    "QC.draw(output='mpl')"
   ],
   "metadata": {
    "collapsed": false,
    "ExecuteTime": {
     "end_time": "2023-11-10T07:19:50.080483500Z",
     "start_time": "2023-11-10T07:19:49.748278200Z"
    }
   },
   "id": "a97325cbf3f1ec7d"
  },
  {
   "cell_type": "markdown",
   "source": [
    "## Mesurer les qubits"
   ],
   "metadata": {
    "collapsed": false
   },
   "id": "e6ae9672fe8fa062"
  },
  {
   "cell_type": "code",
   "execution_count": 23,
   "outputs": [],
   "source": [
    "QC.measure_all()"
   ],
   "metadata": {
    "collapsed": false,
    "ExecuteTime": {
     "end_time": "2023-11-10T07:19:50.081482700Z",
     "start_time": "2023-11-10T07:19:50.059423500Z"
    }
   },
   "id": "696dad4234f42f78"
  },
  {
   "cell_type": "markdown",
   "source": [
    "## Simuler le circuit"
   ],
   "metadata": {
    "collapsed": false
   },
   "id": "87b12e4d82891954"
  },
  {
   "cell_type": "code",
   "execution_count": 24,
   "outputs": [],
   "source": [
    "simulator = Aer.get_backend('qasm_simulator')\n",
    "result = execute(QC, backend=simulator, shots=1024).result()"
   ],
   "metadata": {
    "collapsed": false,
    "ExecuteTime": {
     "end_time": "2023-11-10T07:19:51.417034Z",
     "start_time": "2023-11-10T07:19:50.075481700Z"
    }
   },
   "id": "de38a826cf0fb89"
  },
  {
   "cell_type": "markdown",
   "source": [
    "## Afficher le résultat"
   ],
   "metadata": {
    "collapsed": false
   },
   "id": "8ad409b2043ebabf"
  },
  {
   "cell_type": "code",
   "execution_count": 25,
   "outputs": [
    {
     "name": "stdout",
     "output_type": "stream",
     "text": [
      "{'111': 268, '011': 245, '000': 257, '100': 254}\n"
     ]
    }
   ],
   "source": [
    "counts = result.get_counts(QC)\n",
    "print(counts)"
   ],
   "metadata": {
    "collapsed": false,
    "ExecuteTime": {
     "end_time": "2023-11-10T07:19:51.421822500Z",
     "start_time": "2023-11-10T07:19:51.398271300Z"
    }
   },
   "id": "7ed7ed11367081f0"
  },
  {
   "cell_type": "markdown",
   "source": [
    "## Tracer l'histogramme des résultats"
   ],
   "metadata": {
    "collapsed": false
   },
   "id": "9a5b438849913826"
  },
  {
   "cell_type": "code",
   "execution_count": 26,
   "outputs": [
    {
     "data": {
      "text/plain": "<Figure size 700x500 with 1 Axes>",
      "image/png": "[encoded data removed]"
     },
     "execution_count": 26,
     "metadata": {},
     "output_type": "execute_result"
    }
   ],
   "source": [
    "plot_histogram(counts)"
   ],
   "metadata": {
    "collapsed": false,
    "ExecuteTime": {
     "end_time": "2023-11-10T07:19:51.623525600Z",
     "start_time": "2023-11-10T07:19:51.464955300Z"
    }
   },
   "id": "5e412bc4e2eebd3f"
  },
  {
   "cell_type": "code",
   "execution_count": 26,
   "outputs": [],
   "source": [],
   "metadata": {
    "collapsed": false,
    "ExecuteTime": {
     "end_time": "2023-11-10T07:19:51.659425200Z",
     "start_time": "2023-11-10T07:19:51.622513800Z"
    }
   },
   "id": "48ad6e50a202454c"
  }
 ],
 "metadata": {
  "kernelspec": {
   "display_name": "Python 3",
   "language": "python",
   "name": "python3"
  },
  "language_info": {
   "codemirror_mode": {
    "name": "ipython",
    "version": 2
   },
   "file_extension": ".py",
   "mimetype": "text/x-python",
   "name": "python",
   "nbconvert_exporter": "python",
   "pygments_lexer": "ipython2",
   "version": "2.7.6"
  }
 },
 "nbformat": 4,
 "nbformat_minor": 5
}
